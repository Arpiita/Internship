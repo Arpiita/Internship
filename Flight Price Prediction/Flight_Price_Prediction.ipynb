{
 "cells": [
  {
   "cell_type": "code",
   "execution_count": 1,
   "id": "31505b14",
   "metadata": {},
   "outputs": [],
   "source": [
    "#Importing libraries\n",
    "import numpy as np\n",
    "import pandas as pd\n",
    "import scipy\n",
    "from scipy.stats import zscore\n",
    "import matplotlib.pyplot as plt\n",
    "import sklearn \n",
    "from sklearn.preprocessing import LabelEncoder\n",
    "from sklearn.preprocessing import StandardScaler\n",
    "from sklearn.preprocessing import MinMaxScaler\n",
    "from sklearn.model_selection import train_test_split\n",
    "from sklearn.linear_model import Ridge, ElasticNet\n",
    "from sklearn.tree import DecisionTreeRegressor\n",
    "from sklearn.neighbors import KNeighborsRegressor\n",
    "from sklearn.linear_model import SGDRegressor\n",
    "from sklearn.ensemble import RandomForestRegressor\n",
    "from sklearn.ensemble import GradientBoostingRegressor\n",
    "from sklearn.metrics import mean_squared_error, mean_absolute_error, r2_score\n",
    "from sklearn.model_selection import cross_val_score as cvs\n",
    "from sklearn.model_selection import GridSearchCV\n",
    "import seaborn as sn\n",
    "import pickle\n",
    "import warnings\n",
    "warnings.filterwarnings('ignore')"
   ]
  },
  {
   "cell_type": "code",
   "execution_count": 3,
   "id": "510412cb",
   "metadata": {},
   "outputs": [
    {
     "data": {
      "text/html": [
       "<div>\n",
       "<style scoped>\n",
       "    .dataframe tbody tr th:only-of-type {\n",
       "        vertical-align: middle;\n",
       "    }\n",
       "\n",
       "    .dataframe tbody tr th {\n",
       "        vertical-align: top;\n",
       "    }\n",
       "\n",
       "    .dataframe thead th {\n",
       "        text-align: right;\n",
       "    }\n",
       "</style>\n",
       "<table border=\"1\" class=\"dataframe\">\n",
       "  <thead>\n",
       "    <tr style=\"text-align: right;\">\n",
       "      <th></th>\n",
       "      <th>Airline</th>\n",
       "      <th>Source</th>\n",
       "      <th>Destination</th>\n",
       "      <th>Dep_Time</th>\n",
       "      <th>Arrival_Time</th>\n",
       "      <th>Duration</th>\n",
       "      <th>Total_Stops</th>\n",
       "      <th>Additional_Info</th>\n",
       "      <th>Price (in ₹)</th>\n",
       "    </tr>\n",
       "  </thead>\n",
       "  <tbody>\n",
       "    <tr>\n",
       "      <th>0</th>\n",
       "      <td>Air India</td>\n",
       "      <td>New Delhi</td>\n",
       "      <td>Mumbai</td>\n",
       "      <td>07:00</td>\n",
       "      <td>09:00</td>\n",
       "      <td>2h 00m</td>\n",
       "      <td>Non Stop</td>\n",
       "      <td>Free Meal</td>\n",
       "      <td>2476</td>\n",
       "    </tr>\n",
       "    <tr>\n",
       "      <th>1</th>\n",
       "      <td>Air India</td>\n",
       "      <td>New Delhi</td>\n",
       "      <td>Mumbai</td>\n",
       "      <td>09:00</td>\n",
       "      <td>11:15</td>\n",
       "      <td>2h 15m</td>\n",
       "      <td>Non Stop</td>\n",
       "      <td>Free Meal</td>\n",
       "      <td>2476</td>\n",
       "    </tr>\n",
       "    <tr>\n",
       "      <th>2</th>\n",
       "      <td>Air India</td>\n",
       "      <td>New Delhi</td>\n",
       "      <td>Mumbai</td>\n",
       "      <td>15:05</td>\n",
       "      <td>18:10</td>\n",
       "      <td>3h 05m</td>\n",
       "      <td>1 stop</td>\n",
       "      <td>Free Meal</td>\n",
       "      <td>2791</td>\n",
       "    </tr>\n",
       "    <tr>\n",
       "      <th>3</th>\n",
       "      <td>Air India</td>\n",
       "      <td>New Delhi</td>\n",
       "      <td>Mumbai</td>\n",
       "      <td>17:50</td>\n",
       "      <td>21:35</td>\n",
       "      <td>3h 45m</td>\n",
       "      <td>1 stop</td>\n",
       "      <td>Free Meal</td>\n",
       "      <td>2791</td>\n",
       "    </tr>\n",
       "    <tr>\n",
       "      <th>4</th>\n",
       "      <td>Jet Airways</td>\n",
       "      <td>New Delhi</td>\n",
       "      <td>Mumbai</td>\n",
       "      <td>07:55</td>\n",
       "      <td>10:15</td>\n",
       "      <td>2h 20m</td>\n",
       "      <td>Non Stop</td>\n",
       "      <td>Free Meal</td>\n",
       "      <td>3173</td>\n",
       "    </tr>\n",
       "    <tr>\n",
       "      <th>...</th>\n",
       "      <td>...</td>\n",
       "      <td>...</td>\n",
       "      <td>...</td>\n",
       "      <td>...</td>\n",
       "      <td>...</td>\n",
       "      <td>...</td>\n",
       "      <td>...</td>\n",
       "      <td>...</td>\n",
       "      <td>...</td>\n",
       "    </tr>\n",
       "    <tr>\n",
       "      <th>1545</th>\n",
       "      <td>Air India</td>\n",
       "      <td>Bangalore</td>\n",
       "      <td>New Delhi</td>\n",
       "      <td>08:15</td>\n",
       "      <td>18:30</td>\n",
       "      <td>10h 15m</td>\n",
       "      <td>1 stop</td>\n",
       "      <td>No info</td>\n",
       "      <td>4943</td>\n",
       "    </tr>\n",
       "    <tr>\n",
       "      <th>1546</th>\n",
       "      <td>Air India</td>\n",
       "      <td>Bangalore</td>\n",
       "      <td>New Delhi</td>\n",
       "      <td>00:30</td>\n",
       "      <td>23:55</td>\n",
       "      <td>23h 25m</td>\n",
       "      <td>1 stop</td>\n",
       "      <td>No info</td>\n",
       "      <td>10394</td>\n",
       "    </tr>\n",
       "    <tr>\n",
       "      <th>1547</th>\n",
       "      <td>Jet Airways</td>\n",
       "      <td>Bangalore</td>\n",
       "      <td>New Delhi</td>\n",
       "      <td>11:40</td>\n",
       "      <td>21:20</td>\n",
       "      <td>9h 40m</td>\n",
       "      <td>1 stop</td>\n",
       "      <td>1 Long layover</td>\n",
       "      <td>27992</td>\n",
       "    </tr>\n",
       "    <tr>\n",
       "      <th>1548</th>\n",
       "      <td>IndiGo</td>\n",
       "      <td>Bangalore</td>\n",
       "      <td>New Delhi</td>\n",
       "      <td>18:25</td>\n",
       "      <td>21:20</td>\n",
       "      <td>2h 55m</td>\n",
       "      <td>non-stop</td>\n",
       "      <td>No info</td>\n",
       "      <td>7648</td>\n",
       "    </tr>\n",
       "    <tr>\n",
       "      <th>1549</th>\n",
       "      <td>IndiGo</td>\n",
       "      <td>Bangalore</td>\n",
       "      <td>New Delhi</td>\n",
       "      <td>10:05</td>\n",
       "      <td>13:00</td>\n",
       "      <td>2h 55m</td>\n",
       "      <td>non-stop</td>\n",
       "      <td>No info</td>\n",
       "      <td>7648</td>\n",
       "    </tr>\n",
       "  </tbody>\n",
       "</table>\n",
       "<p>1550 rows × 9 columns</p>\n",
       "</div>"
      ],
      "text/plain": [
       "          Airline     Source Destination Dep_Time Arrival_Time Duration  \\\n",
       "0       Air India  New Delhi      Mumbai    07:00        09:00   2h 00m   \n",
       "1       Air India  New Delhi      Mumbai    09:00        11:15   2h 15m   \n",
       "2       Air India  New Delhi      Mumbai    15:05        18:10   3h 05m   \n",
       "3       Air India  New Delhi      Mumbai    17:50        21:35   3h 45m   \n",
       "4     Jet Airways  New Delhi      Mumbai    07:55        10:15   2h 20m   \n",
       "...           ...        ...         ...      ...          ...      ...   \n",
       "1545    Air India  Bangalore   New Delhi    08:15        18:30  10h 15m   \n",
       "1546    Air India  Bangalore   New Delhi    00:30        23:55  23h 25m   \n",
       "1547  Jet Airways  Bangalore   New Delhi    11:40        21:20   9h 40m   \n",
       "1548       IndiGo  Bangalore   New Delhi    18:25        21:20   2h 55m   \n",
       "1549       IndiGo  Bangalore   New Delhi    10:05        13:00   2h 55m   \n",
       "\n",
       "     Total_Stops Additional_Info  Price (in ₹)  \n",
       "0       Non Stop       Free Meal          2476  \n",
       "1       Non Stop       Free Meal          2476  \n",
       "2         1 stop       Free Meal          2791  \n",
       "3         1 stop       Free Meal          2791  \n",
       "4       Non Stop       Free Meal          3173  \n",
       "...          ...             ...           ...  \n",
       "1545      1 stop         No info          4943  \n",
       "1546      1 stop         No info         10394  \n",
       "1547      1 stop  1 Long layover         27992  \n",
       "1548    non-stop         No info          7648  \n",
       "1549    non-stop         No info          7648  \n",
       "\n",
       "[1550 rows x 9 columns]"
      ]
     },
     "execution_count": 3,
     "metadata": {},
     "output_type": "execute_result"
    }
   ],
   "source": [
    "#Importing the dataset\n",
    "df = pd.read_excel(r'C:\\Users\\Arpita\\Desktop\\Flight Dataset.xlsx')\n",
    "df"
   ]
  },
  {
   "cell_type": "code",
   "execution_count": 9,
   "id": "15d95f98",
   "metadata": {},
   "outputs": [
    {
     "data": {
      "text/html": [
       "<div>\n",
       "<style scoped>\n",
       "    .dataframe tbody tr th:only-of-type {\n",
       "        vertical-align: middle;\n",
       "    }\n",
       "\n",
       "    .dataframe tbody tr th {\n",
       "        vertical-align: top;\n",
       "    }\n",
       "\n",
       "    .dataframe thead th {\n",
       "        text-align: right;\n",
       "    }\n",
       "</style>\n",
       "<table border=\"1\" class=\"dataframe\">\n",
       "  <thead>\n",
       "    <tr style=\"text-align: right;\">\n",
       "      <th></th>\n",
       "      <th>Airline</th>\n",
       "      <th>Source</th>\n",
       "      <th>Destination</th>\n",
       "      <th>Dep_Time</th>\n",
       "      <th>Arrival_Time</th>\n",
       "      <th>Duration</th>\n",
       "      <th>Total_Stops</th>\n",
       "      <th>Additional_Info</th>\n",
       "      <th>Price (in ₹)</th>\n",
       "    </tr>\n",
       "  </thead>\n",
       "  <tbody>\n",
       "    <tr>\n",
       "      <th>0</th>\n",
       "      <td>Air India</td>\n",
       "      <td>New Delhi</td>\n",
       "      <td>Mumbai</td>\n",
       "      <td>07:00</td>\n",
       "      <td>09:00</td>\n",
       "      <td>2h 00m</td>\n",
       "      <td>Non Stop</td>\n",
       "      <td>Free Meal</td>\n",
       "      <td>2476</td>\n",
       "    </tr>\n",
       "    <tr>\n",
       "      <th>1</th>\n",
       "      <td>Air India</td>\n",
       "      <td>New Delhi</td>\n",
       "      <td>Mumbai</td>\n",
       "      <td>09:00</td>\n",
       "      <td>11:15</td>\n",
       "      <td>2h 15m</td>\n",
       "      <td>Non Stop</td>\n",
       "      <td>Free Meal</td>\n",
       "      <td>2476</td>\n",
       "    </tr>\n",
       "    <tr>\n",
       "      <th>2</th>\n",
       "      <td>Air India</td>\n",
       "      <td>New Delhi</td>\n",
       "      <td>Mumbai</td>\n",
       "      <td>15:05</td>\n",
       "      <td>18:10</td>\n",
       "      <td>3h 05m</td>\n",
       "      <td>1 stop</td>\n",
       "      <td>Free Meal</td>\n",
       "      <td>2791</td>\n",
       "    </tr>\n",
       "    <tr>\n",
       "      <th>3</th>\n",
       "      <td>Air India</td>\n",
       "      <td>New Delhi</td>\n",
       "      <td>Mumbai</td>\n",
       "      <td>17:50</td>\n",
       "      <td>21:35</td>\n",
       "      <td>3h 45m</td>\n",
       "      <td>1 stop</td>\n",
       "      <td>Free Meal</td>\n",
       "      <td>2791</td>\n",
       "    </tr>\n",
       "    <tr>\n",
       "      <th>4</th>\n",
       "      <td>Jet Airways</td>\n",
       "      <td>New Delhi</td>\n",
       "      <td>Mumbai</td>\n",
       "      <td>07:55</td>\n",
       "      <td>10:15</td>\n",
       "      <td>2h 20m</td>\n",
       "      <td>Non Stop</td>\n",
       "      <td>Free Meal</td>\n",
       "      <td>3173</td>\n",
       "    </tr>\n",
       "  </tbody>\n",
       "</table>\n",
       "</div>"
      ],
      "text/plain": [
       "       Airline     Source Destination Dep_Time Arrival_Time Duration  \\\n",
       "0    Air India  New Delhi      Mumbai    07:00        09:00   2h 00m   \n",
       "1    Air India  New Delhi      Mumbai    09:00        11:15   2h 15m   \n",
       "2    Air India  New Delhi      Mumbai    15:05        18:10   3h 05m   \n",
       "3    Air India  New Delhi      Mumbai    17:50        21:35   3h 45m   \n",
       "4  Jet Airways  New Delhi      Mumbai    07:55        10:15   2h 20m   \n",
       "\n",
       "  Total_Stops Additional_Info  Price (in ₹)  \n",
       "0    Non Stop       Free Meal          2476  \n",
       "1    Non Stop       Free Meal          2476  \n",
       "2      1 stop       Free Meal          2791  \n",
       "3      1 stop       Free Meal          2791  \n",
       "4    Non Stop       Free Meal          3173  "
      ]
     },
     "execution_count": 9,
     "metadata": {},
     "output_type": "execute_result"
    }
   ],
   "source": [
    "df.head()"
   ]
  },
  {
   "cell_type": "code",
   "execution_count": 8,
   "id": "e5b21d05",
   "metadata": {},
   "outputs": [
    {
     "data": {
      "text/html": [
       "<div>\n",
       "<style scoped>\n",
       "    .dataframe tbody tr th:only-of-type {\n",
       "        vertical-align: middle;\n",
       "    }\n",
       "\n",
       "    .dataframe tbody tr th {\n",
       "        vertical-align: top;\n",
       "    }\n",
       "\n",
       "    .dataframe thead th {\n",
       "        text-align: right;\n",
       "    }\n",
       "</style>\n",
       "<table border=\"1\" class=\"dataframe\">\n",
       "  <thead>\n",
       "    <tr style=\"text-align: right;\">\n",
       "      <th></th>\n",
       "      <th>Airline</th>\n",
       "      <th>Source</th>\n",
       "      <th>Destination</th>\n",
       "      <th>Dep_Time</th>\n",
       "      <th>Arrival_Time</th>\n",
       "      <th>Duration</th>\n",
       "      <th>Total_Stops</th>\n",
       "      <th>Additional_Info</th>\n",
       "      <th>Price (in ₹)</th>\n",
       "    </tr>\n",
       "  </thead>\n",
       "  <tbody>\n",
       "    <tr>\n",
       "      <th>1545</th>\n",
       "      <td>Air India</td>\n",
       "      <td>Bangalore</td>\n",
       "      <td>New Delhi</td>\n",
       "      <td>08:15</td>\n",
       "      <td>18:30</td>\n",
       "      <td>10h 15m</td>\n",
       "      <td>1 stop</td>\n",
       "      <td>No info</td>\n",
       "      <td>4943</td>\n",
       "    </tr>\n",
       "    <tr>\n",
       "      <th>1546</th>\n",
       "      <td>Air India</td>\n",
       "      <td>Bangalore</td>\n",
       "      <td>New Delhi</td>\n",
       "      <td>00:30</td>\n",
       "      <td>23:55</td>\n",
       "      <td>23h 25m</td>\n",
       "      <td>1 stop</td>\n",
       "      <td>No info</td>\n",
       "      <td>10394</td>\n",
       "    </tr>\n",
       "    <tr>\n",
       "      <th>1547</th>\n",
       "      <td>Jet Airways</td>\n",
       "      <td>Bangalore</td>\n",
       "      <td>New Delhi</td>\n",
       "      <td>11:40</td>\n",
       "      <td>21:20</td>\n",
       "      <td>9h 40m</td>\n",
       "      <td>1 stop</td>\n",
       "      <td>1 Long layover</td>\n",
       "      <td>27992</td>\n",
       "    </tr>\n",
       "    <tr>\n",
       "      <th>1548</th>\n",
       "      <td>IndiGo</td>\n",
       "      <td>Bangalore</td>\n",
       "      <td>New Delhi</td>\n",
       "      <td>18:25</td>\n",
       "      <td>21:20</td>\n",
       "      <td>2h 55m</td>\n",
       "      <td>non-stop</td>\n",
       "      <td>No info</td>\n",
       "      <td>7648</td>\n",
       "    </tr>\n",
       "    <tr>\n",
       "      <th>1549</th>\n",
       "      <td>IndiGo</td>\n",
       "      <td>Bangalore</td>\n",
       "      <td>New Delhi</td>\n",
       "      <td>10:05</td>\n",
       "      <td>13:00</td>\n",
       "      <td>2h 55m</td>\n",
       "      <td>non-stop</td>\n",
       "      <td>No info</td>\n",
       "      <td>7648</td>\n",
       "    </tr>\n",
       "  </tbody>\n",
       "</table>\n",
       "</div>"
      ],
      "text/plain": [
       "          Airline     Source Destination Dep_Time Arrival_Time Duration  \\\n",
       "1545    Air India  Bangalore   New Delhi    08:15        18:30  10h 15m   \n",
       "1546    Air India  Bangalore   New Delhi    00:30        23:55  23h 25m   \n",
       "1547  Jet Airways  Bangalore   New Delhi    11:40        21:20   9h 40m   \n",
       "1548       IndiGo  Bangalore   New Delhi    18:25        21:20   2h 55m   \n",
       "1549       IndiGo  Bangalore   New Delhi    10:05        13:00   2h 55m   \n",
       "\n",
       "     Total_Stops Additional_Info  Price (in ₹)  \n",
       "1545      1 stop         No info          4943  \n",
       "1546      1 stop         No info         10394  \n",
       "1547      1 stop  1 Long layover         27992  \n",
       "1548    non-stop         No info          7648  \n",
       "1549    non-stop         No info          7648  "
      ]
     },
     "execution_count": 8,
     "metadata": {},
     "output_type": "execute_result"
    }
   ],
   "source": [
    "df.tail()"
   ]
  },
  {
   "cell_type": "code",
   "execution_count": 4,
   "id": "aa8ae427",
   "metadata": {},
   "outputs": [
    {
     "data": {
      "text/plain": [
       "(1550, 9)"
      ]
     },
     "execution_count": 4,
     "metadata": {},
     "output_type": "execute_result"
    }
   ],
   "source": [
    "df.shape"
   ]
  },
  {
   "cell_type": "code",
   "execution_count": 5,
   "id": "95e21d8d",
   "metadata": {},
   "outputs": [
    {
     "data": {
      "text/plain": [
       "Airline            object\n",
       "Source             object\n",
       "Destination        object\n",
       "Dep_Time           object\n",
       "Arrival_Time       object\n",
       "Duration           object\n",
       "Total_Stops        object\n",
       "Additional_Info    object\n",
       "Price (in ₹)        int64\n",
       "dtype: object"
      ]
     },
     "execution_count": 5,
     "metadata": {},
     "output_type": "execute_result"
    }
   ],
   "source": [
    "df.dtypes"
   ]
  },
  {
   "cell_type": "code",
   "execution_count": 6,
   "id": "cdd8fcb4",
   "metadata": {},
   "outputs": [
    {
     "data": {
      "text/plain": [
       "Index(['Airline', 'Source', 'Destination', 'Dep_Time', 'Arrival_Time',\n",
       "       'Duration', 'Total_Stops', 'Additional_Info', 'Price (in ₹)'],\n",
       "      dtype='object')"
      ]
     },
     "execution_count": 6,
     "metadata": {},
     "output_type": "execute_result"
    }
   ],
   "source": [
    "df.columns"
   ]
  },
  {
   "cell_type": "code",
   "execution_count": 7,
   "id": "8347f31f",
   "metadata": {},
   "outputs": [
    {
     "name": "stdout",
     "output_type": "stream",
     "text": [
      "<class 'pandas.core.frame.DataFrame'>\n",
      "RangeIndex: 1550 entries, 0 to 1549\n",
      "Data columns (total 9 columns):\n",
      " #   Column           Non-Null Count  Dtype \n",
      "---  ------           --------------  ----- \n",
      " 0   Airline          1550 non-null   object\n",
      " 1   Source           1550 non-null   object\n",
      " 2   Destination      1550 non-null   object\n",
      " 3   Dep_Time         1550 non-null   object\n",
      " 4   Arrival_Time     1550 non-null   object\n",
      " 5   Duration         1550 non-null   object\n",
      " 6   Total_Stops      1550 non-null   object\n",
      " 7   Additional_Info  1550 non-null   object\n",
      " 8   Price (in ₹)     1550 non-null   int64 \n",
      "dtypes: int64(1), object(8)\n",
      "memory usage: 109.1+ KB\n"
     ]
    }
   ],
   "source": [
    "df.info()"
   ]
  },
  {
   "cell_type": "markdown",
   "id": "8b235f18",
   "metadata": {},
   "source": [
    "# Data Cleaning"
   ]
  },
  {
   "cell_type": "code",
   "execution_count": 10,
   "id": "580a9fd4",
   "metadata": {},
   "outputs": [
    {
     "data": {
      "text/plain": [
       "Airline            0\n",
       "Source             0\n",
       "Destination        0\n",
       "Dep_Time           0\n",
       "Arrival_Time       0\n",
       "Duration           0\n",
       "Total_Stops        0\n",
       "Additional_Info    0\n",
       "Price (in ₹)       0\n",
       "dtype: int64"
      ]
     },
     "execution_count": 10,
     "metadata": {},
     "output_type": "execute_result"
    }
   ],
   "source": [
    "# Checking for null values\n",
    "df.isnull().sum()"
   ]
  },
  {
   "cell_type": "markdown",
   "id": "e6f945f5",
   "metadata": {},
   "source": [
    "As we can see that there is no null values in our dataset"
   ]
  },
  {
   "cell_type": "code",
   "execution_count": 11,
   "id": "020d68c6",
   "metadata": {},
   "outputs": [
    {
     "data": {
      "text/plain": [
       "<AxesSubplot:>"
      ]
     },
     "execution_count": 11,
     "metadata": {},
     "output_type": "execute_result"
    },
    {
     "data": {
      "image/png": "[encoded data removed]",
      "text/plain": [
       "<Figure size 432x288 with 2 Axes>"
      ]
     },
     "metadata": {
      "needs_background": "light"
     },
     "output_type": "display_data"
    }
   ],
   "source": [
    "#Plotting on heatmap\n",
    "sn.heatmap(df.isnull())"
   ]
  },
  {
   "cell_type": "markdown",
   "id": "6e00bc0d",
   "metadata": {},
   "source": [
    "# EDA"
   ]
  },
  {
   "cell_type": "code",
   "execution_count": 12,
   "id": "303d38ca",
   "metadata": {},
   "outputs": [
    {
     "data": {
      "text/plain": [
       "<AxesSubplot:xlabel='Price (in ₹)', ylabel='Density'>"
      ]
     },
     "execution_count": 12,
     "metadata": {},
     "output_type": "execute_result"
    },
    {
     "data": {
      "image/png": "[encoded data removed]",
      "text/plain": [
       "<Figure size 432x288 with 1 Axes>"
      ]
     },
     "metadata": {
      "needs_background": "light"
     },
     "output_type": "display_data"
    }
   ],
   "source": [
    "sn.distplot(df['Price (in ₹)'])"
   ]
  },
  {
   "cell_type": "markdown",
   "id": "934d1b1c",
   "metadata": {},
   "source": [
    "From above graph we can see that the maximum flights are within ₹ 10000"
   ]
  },
  {
   "cell_type": "code",
   "execution_count": 13,
   "id": "73e4d9e7",
   "metadata": {},
   "outputs": [
    {
     "data": {
      "text/plain": [
       "<AxesSubplot:xlabel='Price (in ₹)'>"
      ]
     },
     "execution_count": 13,
     "metadata": {},
     "output_type": "execute_result"
    },
    {
     "data": {
      "image/png": "[encoded data removed]",
      "text/plain": [
       "<Figure size 432x288 with 1 Axes>"
      ]
     },
     "metadata": {
      "needs_background": "light"
     },
     "output_type": "display_data"
    }
   ],
   "source": [
    "#Checking for Outliers\n",
    "sn.boxplot(df['Price (in ₹)'])"
   ]
  },
  {
   "cell_type": "markdown",
   "id": "ec55ffee",
   "metadata": {},
   "source": [
    "We can see that outliers are present in our target column"
   ]
  },
  {
   "cell_type": "code",
   "execution_count": 15,
   "id": "c093e07d",
   "metadata": {},
   "outputs": [
    {
     "data": {
      "text/plain": [
       "<AxesSubplot:xlabel='Price (in ₹)'>"
      ]
     },
     "execution_count": 15,
     "metadata": {},
     "output_type": "execute_result"
    },
    {
     "data": {
      "image/png": "[encoded data removed]",
      "text/plain": [
       "<Figure size 432x288 with 1 Axes>"
      ]
     },
     "metadata": {
      "needs_background": "light"
     },
     "output_type": "display_data"
    }
   ],
   "source": [
    "sn.violinplot(x=df['Price (in ₹)'], inner=\"quartile\", color=\"#B3366B\")"
   ]
  },
  {
   "cell_type": "markdown",
   "id": "3b2a10ea",
   "metadata": {},
   "source": [
    "The violin plot is for the target variable. The width of the violin represents the frequency.\n",
    "\n",
    "We can see from the plot that most flight prices fall within 10,000. The dashed lines represent the locations of the three quartiles Q1, Q2 (the median), and Q3."
   ]
  },
  {
   "cell_type": "code",
   "execution_count": 16,
   "id": "a1b9ea3e",
   "metadata": {},
   "outputs": [
    {
     "data": {
      "image/png": "[encoded data removed]",
      "text/plain": [
       "<Figure size 432x288 with 1 Axes>"
      ]
     },
     "metadata": {
      "needs_background": "light"
     },
     "output_type": "display_data"
    }
   ],
   "source": [
    "sn.countplot(df['Airline'])\n",
    "plt.xticks(rotation=90)\n",
    "plt.show()"
   ]
  },
  {
   "cell_type": "markdown",
   "id": "3f27a406",
   "metadata": {},
   "source": [
    "From the above graph we can see that the maximum flights taken/available belongs to airline 'Jet Airways' followed by \"IndiGo\" and \"Air India\"."
   ]
  },
  {
   "cell_type": "code",
   "execution_count": 17,
   "id": "593ab7f8",
   "metadata": {},
   "outputs": [
    {
     "data": {
      "image/png": "[encoded data removed]",
      "text/plain": [
       "<Figure size 432x288 with 1 Axes>"
      ]
     },
     "metadata": {},
     "output_type": "display_data"
    }
   ],
   "source": [
    "plt.pie(df['Source'].value_counts(), labels=df['Source'].unique(),shadow=False)\n",
    "plt.tight_layout()\n",
    "plt.show()"
   ]
  },
  {
   "cell_type": "markdown",
   "id": "569c94fc",
   "metadata": {},
   "source": [
    "New Delhi and Mumbai have more flights compared to other sources."
   ]
  },
  {
   "cell_type": "code",
   "execution_count": 18,
   "id": "c4e345ca",
   "metadata": {},
   "outputs": [
    {
     "data": {
      "image/png": "[encoded data removed]",
      "text/plain": [
       "<Figure size 432x288 with 1 Axes>"
      ]
     },
     "metadata": {},
     "output_type": "display_data"
    }
   ],
   "source": [
    "plt.pie(df['Destination'].value_counts(), labels=df['Destination'].unique(),shadow=False)\n",
    "plt.tight_layout()\n",
    "plt.show()"
   ]
  },
  {
   "cell_type": "markdown",
   "id": "1e76dbcc",
   "metadata": {},
   "source": [
    "Maximum passengers take a flight to Mumbai."
   ]
  },
  {
   "cell_type": "code",
   "execution_count": 19,
   "id": "9de87336",
   "metadata": {},
   "outputs": [
    {
     "data": {
      "image/png": "[encoded data removed]",
      "text/plain": [
       "<Figure size 432x288 with 1 Axes>"
      ]
     },
     "metadata": {
      "needs_background": "light"
     },
     "output_type": "display_data"
    }
   ],
   "source": [
    "sn.countplot(df['Total_Stops'])\n",
    "plt.xticks(rotation=90)\n",
    "plt.show()"
   ]
  },
  {
   "cell_type": "markdown",
   "id": "2542a701",
   "metadata": {},
   "source": [
    "Maximum flights are with no-stop followed by 1 stop flights."
   ]
  },
  {
   "cell_type": "code",
   "execution_count": 21,
   "id": "42ddce37",
   "metadata": {},
   "outputs": [
    {
     "data": {
      "image/png": "[encoded data removed]",
      "text/plain": [
       "<Figure size 432x288 with 1 Axes>"
      ]
     },
     "metadata": {
      "needs_background": "light"
     },
     "output_type": "display_data"
    }
   ],
   "source": [
    "sn.countplot(df['Additional_Info'])\n",
    "plt.xticks(rotation=90)\n",
    "plt.show()"
   ]
  },
  {
   "cell_type": "markdown",
   "id": "eb2b713b",
   "metadata": {},
   "source": [
    "There is no 'Additional_Info' for maximum flights. Only few flights offer free meal and no check-in baggage."
   ]
  },
  {
   "cell_type": "code",
   "execution_count": 22,
   "id": "0fe98ca3",
   "metadata": {},
   "outputs": [
    {
     "data": {
      "image/png": "[encoded data removed]",
      "text/plain": [
       "<Figure size 432x288 with 1 Axes>"
      ]
     },
     "metadata": {
      "needs_background": "light"
     },
     "output_type": "display_data"
    }
   ],
   "source": [
    "sn.stripplot(df['Duration'])\n",
    "plt.xticks(rotation=90)\n",
    "plt.show()"
   ]
  },
  {
   "cell_type": "markdown",
   "id": "d05454c9",
   "metadata": {},
   "source": [
    "Since departure time , arrival time and duration have a wide number of unique values in it , so we will not be performing Univariate Analysis."
   ]
  },
  {
   "cell_type": "markdown",
   "id": "2e410834",
   "metadata": {},
   "source": [
    "# Bivariate Analysis"
   ]
  },
  {
   "cell_type": "code",
   "execution_count": 23,
   "id": "b8d019f9",
   "metadata": {},
   "outputs": [
    {
     "data": {
      "image/png": "[encoded data removed]",
      "text/plain": [
       "<Figure size 432x288 with 1 Axes>"
      ]
     },
     "metadata": {
      "needs_background": "light"
     },
     "output_type": "display_data"
    }
   ],
   "source": [
    "sn.barplot(x=df['Airline'],y=df['Price (in ₹)'],color='pink')\n",
    "plt.xticks(rotation=90)\n",
    "plt.tight_layout()"
   ]
  },
  {
   "cell_type": "markdown",
   "id": "68f43155",
   "metadata": {},
   "source": [
    "The Highest priced 'Airline' is Jet airways business and the cheapest is Spicejet."
   ]
  },
  {
   "cell_type": "code",
   "execution_count": 24,
   "id": "0fb8de42",
   "metadata": {},
   "outputs": [
    {
     "data": {
      "image/png": "[encoded data removed]",
      "text/plain": [
       "<Figure size 432x288 with 1 Axes>"
      ]
     },
     "metadata": {
      "needs_background": "light"
     },
     "output_type": "display_data"
    }
   ],
   "source": [
    "sn.barplot(x=df['Source'],y=df['Price (in ₹)'],color='orange')\n",
    "plt.xticks(rotation=90)\n",
    "plt.tight_layout()"
   ]
  },
  {
   "cell_type": "markdown",
   "id": "1f2b00fb",
   "metadata": {},
   "source": [
    "Flights from Bangalore and Kolkata are costly."
   ]
  },
  {
   "cell_type": "code",
   "execution_count": 25,
   "id": "de594e64",
   "metadata": {},
   "outputs": [
    {
     "data": {
      "image/png": "[encoded data removed]",
      "text/plain": [
       "<Figure size 432x288 with 1 Axes>"
      ]
     },
     "metadata": {
      "needs_background": "light"
     },
     "output_type": "display_data"
    }
   ],
   "source": [
    "sn.barplot(x=df['Destination'],y=df['Price (in ₹)'],color='red')\n",
    "plt.xticks(rotation=90)\n",
    "plt.tight_layout()"
   ]
  },
  {
   "cell_type": "markdown",
   "id": "9b1413c8",
   "metadata": {},
   "source": [
    "Flights to New Delhi and Bangalore are costly."
   ]
  },
  {
   "cell_type": "code",
   "execution_count": 27,
   "id": "e11fa628",
   "metadata": {},
   "outputs": [
    {
     "data": {
      "image/png": "[encoded data removed]",
      "text/plain": [
       "<Figure size 432x288 with 1 Axes>"
      ]
     },
     "metadata": {
      "needs_background": "light"
     },
     "output_type": "display_data"
    }
   ],
   "source": [
    "sn.barplot(x=df['Total_Stops'],y=df['Price (in ₹)'],color='red')\n",
    "plt.xticks(rotation=90)\n",
    "plt.tight_layout()"
   ]
  },
  {
   "cell_type": "markdown",
   "id": "71b1d667",
   "metadata": {},
   "source": [
    "2 stops flights are high priced."
   ]
  },
  {
   "cell_type": "code",
   "execution_count": 29,
   "id": "1a854b36",
   "metadata": {},
   "outputs": [
    {
     "data": {
      "image/png": "[encoded data removed]",
      "text/plain": [
       "<Figure size 432x288 with 1 Axes>"
      ]
     },
     "metadata": {
      "needs_background": "light"
     },
     "output_type": "display_data"
    }
   ],
   "source": [
    "sn.barplot(x=df['Additional_Info'],y=df['Price (in ₹)'],color='blue')\n",
    "plt.xticks(rotation=90)\n",
    "plt.tight_layout()"
   ]
  },
  {
   "cell_type": "markdown",
   "id": "2e614225",
   "metadata": {},
   "source": [
    "Direct flights fit in budget but they do not give any free meal or layovers."
   ]
  },
  {
   "cell_type": "code",
   "execution_count": 32,
   "id": "b2b18435",
   "metadata": {},
   "outputs": [
    {
     "data": {
      "text/html": [
       "<div>\n",
       "<style scoped>\n",
       "    .dataframe tbody tr th:only-of-type {\n",
       "        vertical-align: middle;\n",
       "    }\n",
       "\n",
       "    .dataframe tbody tr th {\n",
       "        vertical-align: top;\n",
       "    }\n",
       "\n",
       "    .dataframe thead th {\n",
       "        text-align: right;\n",
       "    }\n",
       "</style>\n",
       "<table border=\"1\" class=\"dataframe\">\n",
       "  <thead>\n",
       "    <tr style=\"text-align: right;\">\n",
       "      <th></th>\n",
       "      <th>Airline</th>\n",
       "      <th>Source</th>\n",
       "      <th>Destination</th>\n",
       "      <th>Dep_Time</th>\n",
       "      <th>Arrival_Time</th>\n",
       "      <th>Duration</th>\n",
       "      <th>Total_Stops</th>\n",
       "      <th>Additional_Info</th>\n",
       "      <th>Price (in ₹)</th>\n",
       "    </tr>\n",
       "  </thead>\n",
       "  <tbody>\n",
       "    <tr>\n",
       "      <th>0</th>\n",
       "      <td>1</td>\n",
       "      <td>4</td>\n",
       "      <td>3</td>\n",
       "      <td>25</td>\n",
       "      <td>142</td>\n",
       "      <td>149</td>\n",
       "      <td>3</td>\n",
       "      <td>4</td>\n",
       "      <td>2476</td>\n",
       "    </tr>\n",
       "    <tr>\n",
       "      <th>1</th>\n",
       "      <td>1</td>\n",
       "      <td>4</td>\n",
       "      <td>3</td>\n",
       "      <td>41</td>\n",
       "      <td>214</td>\n",
       "      <td>150</td>\n",
       "      <td>3</td>\n",
       "      <td>4</td>\n",
       "      <td>2476</td>\n",
       "    </tr>\n",
       "    <tr>\n",
       "      <th>2</th>\n",
       "      <td>1</td>\n",
       "      <td>4</td>\n",
       "      <td>3</td>\n",
       "      <td>84</td>\n",
       "      <td>298</td>\n",
       "      <td>166</td>\n",
       "      <td>0</td>\n",
       "      <td>4</td>\n",
       "      <td>2791</td>\n",
       "    </tr>\n",
       "    <tr>\n",
       "      <th>3</th>\n",
       "      <td>1</td>\n",
       "      <td>4</td>\n",
       "      <td>3</td>\n",
       "      <td>109</td>\n",
       "      <td>355</td>\n",
       "      <td>169</td>\n",
       "      <td>0</td>\n",
       "      <td>4</td>\n",
       "      <td>2791</td>\n",
       "    </tr>\n",
       "    <tr>\n",
       "      <th>4</th>\n",
       "      <td>4</td>\n",
       "      <td>4</td>\n",
       "      <td>3</td>\n",
       "      <td>31</td>\n",
       "      <td>186</td>\n",
       "      <td>151</td>\n",
       "      <td>3</td>\n",
       "      <td>4</td>\n",
       "      <td>3173</td>\n",
       "    </tr>\n",
       "    <tr>\n",
       "      <th>...</th>\n",
       "      <td>...</td>\n",
       "      <td>...</td>\n",
       "      <td>...</td>\n",
       "      <td>...</td>\n",
       "      <td>...</td>\n",
       "      <td>...</td>\n",
       "      <td>...</td>\n",
       "      <td>...</td>\n",
       "      <td>...</td>\n",
       "    </tr>\n",
       "    <tr>\n",
       "      <th>1545</th>\n",
       "      <td>1</td>\n",
       "      <td>0</td>\n",
       "      <td>4</td>\n",
       "      <td>34</td>\n",
       "      <td>307</td>\n",
       "      <td>0</td>\n",
       "      <td>0</td>\n",
       "      <td>8</td>\n",
       "      <td>4943</td>\n",
       "    </tr>\n",
       "    <tr>\n",
       "      <th>1546</th>\n",
       "      <td>1</td>\n",
       "      <td>0</td>\n",
       "      <td>4</td>\n",
       "      <td>0</td>\n",
       "      <td>398</td>\n",
       "      <td>105</td>\n",
       "      <td>0</td>\n",
       "      <td>8</td>\n",
       "      <td>10394</td>\n",
       "    </tr>\n",
       "    <tr>\n",
       "      <th>1547</th>\n",
       "      <td>4</td>\n",
       "      <td>0</td>\n",
       "      <td>4</td>\n",
       "      <td>60</td>\n",
       "      <td>352</td>\n",
       "      <td>219</td>\n",
       "      <td>0</td>\n",
       "      <td>0</td>\n",
       "      <td>27992</td>\n",
       "    </tr>\n",
       "    <tr>\n",
       "      <th>1548</th>\n",
       "      <td>3</td>\n",
       "      <td>0</td>\n",
       "      <td>4</td>\n",
       "      <td>111</td>\n",
       "      <td>352</td>\n",
       "      <td>158</td>\n",
       "      <td>4</td>\n",
       "      <td>8</td>\n",
       "      <td>7648</td>\n",
       "    </tr>\n",
       "    <tr>\n",
       "      <th>1549</th>\n",
       "      <td>3</td>\n",
       "      <td>0</td>\n",
       "      <td>4</td>\n",
       "      <td>51</td>\n",
       "      <td>241</td>\n",
       "      <td>158</td>\n",
       "      <td>4</td>\n",
       "      <td>8</td>\n",
       "      <td>7648</td>\n",
       "    </tr>\n",
       "  </tbody>\n",
       "</table>\n",
       "<p>1550 rows × 9 columns</p>\n",
       "</div>"
      ],
      "text/plain": [
       "      Airline  Source  Destination  Dep_Time  Arrival_Time  Duration  \\\n",
       "0           1       4            3        25           142       149   \n",
       "1           1       4            3        41           214       150   \n",
       "2           1       4            3        84           298       166   \n",
       "3           1       4            3       109           355       169   \n",
       "4           4       4            3        31           186       151   \n",
       "...       ...     ...          ...       ...           ...       ...   \n",
       "1545        1       0            4        34           307         0   \n",
       "1546        1       0            4         0           398       105   \n",
       "1547        4       0            4        60           352       219   \n",
       "1548        3       0            4       111           352       158   \n",
       "1549        3       0            4        51           241       158   \n",
       "\n",
       "      Total_Stops  Additional_Info  Price (in ₹)  \n",
       "0               3                4          2476  \n",
       "1               3                4          2476  \n",
       "2               0                4          2791  \n",
       "3               0                4          2791  \n",
       "4               3                4          3173  \n",
       "...           ...              ...           ...  \n",
       "1545            0                8          4943  \n",
       "1546            0                8         10394  \n",
       "1547            0                0         27992  \n",
       "1548            4                8          7648  \n",
       "1549            4                8          7648  \n",
       "\n",
       "[1550 rows x 9 columns]"
      ]
     },
     "execution_count": 32,
     "metadata": {},
     "output_type": "execute_result"
    }
   ],
   "source": [
    "df.drop(['Price (in ₹)'],axis=1).astype('category')\n",
    "\n",
    "#encoding the feature variables using label encoder technique.\n",
    "le=LabelEncoder()\n",
    "cnt=0\n",
    "for col in df:\n",
    "    if df[col].dtype=='object':\n",
    "        le.fit(df[col])\n",
    "        df[col] = le.transform(df[col])\n",
    "        cnt += 1\n",
    "df"
   ]
  },
  {
   "cell_type": "markdown",
   "id": "06e26074",
   "metadata": {},
   "source": [
    "# Multivariate Analysis"
   ]
  },
  {
   "cell_type": "code",
   "execution_count": 33,
   "id": "2df2dbf5",
   "metadata": {},
   "outputs": [
    {
     "data": {
      "text/plain": [
       "<AxesSubplot:>"
      ]
     },
     "execution_count": 33,
     "metadata": {},
     "output_type": "execute_result"
    },
    {
     "data": {
      "image/png": "[encoded data removed]",
      "text/plain": [
       "<Figure size 1080x576 with 2 Axes>"
      ]
     },
     "metadata": {
      "needs_background": "light"
     },
     "output_type": "display_data"
    }
   ],
   "source": [
    "a=df.corr()\n",
    "plt.figure(figsize=(15,8))\n",
    "sn.heatmap(a,linewidth=0.1, cmap=\"RdGy\", annot = True)"
   ]
  },
  {
   "cell_type": "markdown",
   "id": "f7059e4b",
   "metadata": {},
   "source": [
    "No multicollinearity in the dataset."
   ]
  },
  {
   "cell_type": "markdown",
   "id": "92075615",
   "metadata": {},
   "source": [
    "# Model Building"
   ]
  },
  {
   "cell_type": "code",
   "execution_count": 36,
   "id": "03bcb26d",
   "metadata": {},
   "outputs": [],
   "source": [
    "#Separating feature and target variables into x and y.\n",
    "x = df.drop(['Price (in ₹)'],axis=1)\n",
    "y = df['Price (in ₹)']"
   ]
  },
  {
   "cell_type": "code",
   "execution_count": 40,
   "id": "1365b5ca",
   "metadata": {},
   "outputs": [],
   "source": [
    "# Scaling the fearure variable\n",
    "scale = StandardScaler()\n",
    "x=scale.fit_transform(x)"
   ]
  },
  {
   "cell_type": "code",
   "execution_count": 41,
   "id": "8678f1a3",
   "metadata": {},
   "outputs": [],
   "source": [
    "xtrain, xtest, ytrain, ytest = train_test_split(x, y, test_size = 0.3, random_state = 45 )"
   ]
  },
  {
   "cell_type": "markdown",
   "id": "c81fbaec",
   "metadata": {},
   "source": [
    "# Decision Tree Regressor"
   ]
  },
  {
   "cell_type": "code",
   "execution_count": 42,
   "id": "a738f092",
   "metadata": {},
   "outputs": [
    {
     "name": "stdout",
     "output_type": "stream",
     "text": [
      "Decision Tree Regressor Score: 0.9702228241618172\n",
      "Decision Tree Regressor r2_score: 0.7656632115838157\n",
      "Mean squared error of Decision Tree Regressor: 8099140.313479304\n",
      "Root Mean Square error of Decision Tree Regressor: 2845.8988586173095\n"
     ]
    }
   ],
   "source": [
    "dtr=DecisionTreeRegressor(criterion='mse')\n",
    "dtr.fit(xtrain,ytrain)\n",
    "pred_train_dtr=dtr.predict(xtrain)\n",
    "pred_test_dtr=dtr.predict(xtest)\n",
    "print('Decision Tree Regressor Score:',dtr.score(xtrain,ytrain))\n",
    "print('Decision Tree Regressor r2_score:',r2_score(ytest,pred_test_dtr))\n",
    "print(\"Mean squared error of Decision Tree Regressor:\",mean_squared_error(ytest,pred_test_dtr))\n",
    "print(\"Root Mean Square error of Decision Tree Regressor:\",np.sqrt(mean_squared_error(ytest,pred_test_dtr)))"
   ]
  },
  {
   "cell_type": "markdown",
   "id": "4c9fdd1b",
   "metadata": {},
   "source": [
    "# K-Neighbors Regressor"
   ]
  },
  {
   "cell_type": "code",
   "execution_count": 43,
   "id": "8f7b167f",
   "metadata": {},
   "outputs": [
    {
     "name": "stdout",
     "output_type": "stream",
     "text": [
      "K Neighbors Regressor Score: 0.7662477798580302\n",
      "K Neighbors Regressor r2_score: 0.5971457985335274\n",
      "Mean squared error of K Neighbors Regressor: 13923433.557333333\n",
      "Root Mean Square error of K Neighbors Regressor: 3731.4117378457895\n"
     ]
    }
   ],
   "source": [
    "knr = KNeighborsRegressor()\n",
    "knr.fit(xtrain,ytrain)\n",
    "pred_train_knr=knr.predict(xtrain)\n",
    "pred_test_knr=knr.predict(xtest)\n",
    "print('K Neighbors Regressor Score:',knr.score(xtrain,ytrain))\n",
    "print('K Neighbors Regressor r2_score:',r2_score(ytest,pred_test_knr))\n",
    "print(\"Mean squared error of K Neighbors Regressor:\",mean_squared_error(ytest,pred_test_knr))\n",
    "print(\"Root Mean Square error of K Neighbors Regressor:\",np.sqrt(mean_squared_error(ytest,pred_test_knr)))"
   ]
  },
  {
   "cell_type": "markdown",
   "id": "db935160",
   "metadata": {},
   "source": [
    "# SGD Regressor"
   ]
  },
  {
   "cell_type": "code",
   "execution_count": 44,
   "id": "58b5213e",
   "metadata": {},
   "outputs": [
    {
     "name": "stdout",
     "output_type": "stream",
     "text": [
      "SGD Regressor Score: 0.41809941105310067\n",
      "SGD Regressor r2_score: 0.44221301326541984\n",
      "Mean squared error of SGD Regressor: 19278215.346080847\n",
      "Root Mean Square error of SGD Regressor: 4390.69645342067\n"
     ]
    }
   ],
   "source": [
    "sgd=SGDRegressor()\n",
    "sgd.fit(xtrain,ytrain)\n",
    "pred_train_sgd=sgd.predict(xtrain)\n",
    "pred_test_sgd=sgd.predict(xtest)\n",
    "print('SGD Regressor Score:',sgd.score(xtrain,ytrain))\n",
    "print('SGD Regressor r2_score:',r2_score(ytest,pred_test_sgd))\n",
    "print(\"Mean squared error of SGD Regressor:\",mean_squared_error(ytest,pred_test_sgd))\n",
    "print(\"Root Mean Square error of SGD Regressor:\",np.sqrt(mean_squared_error(ytest,pred_test_sgd)))"
   ]
  },
  {
   "cell_type": "markdown",
   "id": "5cd05589",
   "metadata": {},
   "source": [
    "# Random Forest Regressor"
   ]
  },
  {
   "cell_type": "code",
   "execution_count": 45,
   "id": "524828bd",
   "metadata": {},
   "outputs": [
    {
     "name": "stdout",
     "output_type": "stream",
     "text": [
      "Random Forest Regressor Score: 0.9402091190146721\n",
      "Random Forest Regressor r2_score: 0.820173323663499\n",
      "Mean squared error of Random Forest Regressor: 6215163.626674342\n",
      "Root Mean Square error of Random Forest Regressor: 2493.022989600044\n"
     ]
    }
   ],
   "source": [
    "rf=RandomForestRegressor()\n",
    "rf.fit(xtrain,ytrain)\n",
    "pred_train_rf=rf.predict(xtrain)\n",
    "pred_test_rf=rf.predict(xtest)\n",
    "print('Random Forest Regressor Score:',rf.score(xtrain,ytrain))\n",
    "print('Random Forest Regressor r2_score:',r2_score(ytest,pred_test_rf))\n",
    "print(\"Mean squared error of Random Forest Regressor:\",mean_squared_error(ytest,pred_test_rf))\n",
    "print(\"Root Mean Square error of Random Forest Regressor:\",np.sqrt(mean_squared_error(ytest,pred_test_rf)))"
   ]
  },
  {
   "cell_type": "markdown",
   "id": "7547ca28",
   "metadata": {},
   "source": [
    "# Gradient Boosting Regressor"
   ]
  },
  {
   "cell_type": "code",
   "execution_count": 46,
   "id": "a5df0e2f",
   "metadata": {},
   "outputs": [
    {
     "name": "stdout",
     "output_type": "stream",
     "text": [
      "Gradient Boosting Regressor Score: 0.8672834676678809\n",
      "Gradient Boosting Regressor r2_score: 0.7604946267590929\n",
      "Mean squared error of Gradient Boosting Regressor: 8277776.770863897\n",
      "Root Mean Square error of Gradient Boosting Regressor: 2877.1125752851412\n"
     ]
    }
   ],
   "source": [
    "gb=GradientBoostingRegressor()\n",
    "gb.fit(xtrain,ytrain)\n",
    "pred_train_gb=gb.predict(xtrain)\n",
    "pred_test_gb=gb.predict(xtest)\n",
    "print('Gradient Boosting Regressor Score:',gb.score(xtrain,ytrain))\n",
    "print('Gradient Boosting Regressor r2_score:',r2_score(ytest,pred_test_gb))\n",
    "print(\"Mean squared error of Gradient Boosting Regressor:\",mean_squared_error(ytest,pred_test_gb))\n",
    "print(\"Root Mean Square error of Gradient Boosting Regressor:\",np.sqrt(mean_squared_error(ytest,pred_test_gb)))"
   ]
  },
  {
   "cell_type": "markdown",
   "id": "0f22f49f",
   "metadata": {},
   "source": [
    "# Cross Validation Score"
   ]
  },
  {
   "cell_type": "code",
   "execution_count": 47,
   "id": "9643ef36",
   "metadata": {},
   "outputs": [
    {
     "name": "stdout",
     "output_type": "stream",
     "text": [
      "Cross Validation Score of Decision Tree Regressor is 48.45440297430954\n",
      "Cross Validation Score of KNeighbors Regressor is 42.96200503961779\n",
      "Cross Validation Score of SGD Regressor is 7.167115757307248\n",
      "Cross Validation Score of Random Forest Regressor is 59.22950093018808\n",
      "Cross Validation Score of Gradient Boosting Regressor is 55.63678064029548\n"
     ]
    }
   ],
   "source": [
    "print('Cross Validation Score of Decision Tree Regressor is',(cvs(dtr,x,y,cv=5).mean())*100)\n",
    "print('Cross Validation Score of KNeighbors Regressor is',(cvs(knr,x,y,cv=5).mean())*100)\n",
    "print('Cross Validation Score of SGD Regressor is',(cvs(sgd,x,y,cv=5).mean())*100)\n",
    "print('Cross Validation Score of Random Forest Regressor is',(cvs(rf,x,y,cv=5).mean())*100)\n",
    "print('Cross Validation Score of Gradient Boosting Regressor is',(cvs(gb,x,y,cv=5).mean())*100)"
   ]
  },
  {
   "cell_type": "markdown",
   "id": "68389262",
   "metadata": {},
   "source": [
    "The least difference between r2_score and cross validation score is for Random Forest Regressor, hence we will use that model."
   ]
  },
  {
   "cell_type": "markdown",
   "id": "945f3cae",
   "metadata": {},
   "source": [
    "# Hyper Parameter Tuning"
   ]
  },
  {
   "cell_type": "code",
   "execution_count": 48,
   "id": "8133e0a2",
   "metadata": {},
   "outputs": [
    {
     "data": {
      "text/plain": [
       "{'bootstrap': True,\n",
       " 'max_features': 'sqrt',\n",
       " 'min_samples_leaf': 1,\n",
       " 'min_samples_split': 2}"
      ]
     },
     "execution_count": 48,
     "metadata": {},
     "output_type": "execute_result"
    }
   ],
   "source": [
    "parameter = { 'bootstrap': [True, False],\n",
    " 'max_features': ['auto', 'sqrt'],\n",
    " 'min_samples_leaf': [1, 2, 4],\n",
    " 'min_samples_split': [2, 5, 10],}\n",
    "\n",
    "gvc = GridSearchCV(RandomForestRegressor(),parameter,cv=5)\n",
    "gvc.fit(xtrain,ytrain)\n",
    "gvc.best_params_"
   ]
  },
  {
   "cell_type": "code",
   "execution_count": 50,
   "id": "3e2ea502",
   "metadata": {},
   "outputs": [
    {
     "name": "stdout",
     "output_type": "stream",
     "text": [
      "Score of Hyper Parameter Tuned Ranfom Forest Regressor is: 0.9411019301918506\n",
      "Accuracy for predicting price of flight is 77.20689468215558 %\n",
      "Mean squared error of Hyper Parameter Tuned Random Forest Regressor: 7877745.504528885\n",
      "Root Mean Square error of Hyper Parameter Tuned Random Forest Regressor: 2806.7321754183968\n"
     ]
    }
   ],
   "source": [
    "flightprice = RandomForestRegressor(bootstrap=False,min_samples_leaf=1,max_features='sqrt',min_samples_split=5)\n",
    "flightprice.fit(xtrain,ytrain)\n",
    "pred=flightprice.predict(xtest)\n",
    "acc=r2_score(ytest,pred)\n",
    "print('Score of Hyper Parameter Tuned Ranfom Forest Regressor is:',flightprice.score(xtrain,ytrain))\n",
    "print('Accuracy for predicting price of flight is', (acc*100),'%')\n",
    "print(\"Mean squared error of Hyper Parameter Tuned Random Forest Regressor:\",mean_squared_error(ytest,pred))\n",
    "print(\"Root Mean Square error of Hyper Parameter Tuned Random Forest Regressor:\",np.sqrt(mean_squared_error(ytest,pred)))"
   ]
  },
  {
   "cell_type": "markdown",
   "id": "843a70d1",
   "metadata": {},
   "source": [
    "# Conclusion"
   ]
  },
  {
   "cell_type": "code",
   "execution_count": 51,
   "id": "4f0adec3",
   "metadata": {},
   "outputs": [
    {
     "data": {
      "text/html": [
       "<div>\n",
       "<style scoped>\n",
       "    .dataframe tbody tr th:only-of-type {\n",
       "        vertical-align: middle;\n",
       "    }\n",
       "\n",
       "    .dataframe tbody tr th {\n",
       "        vertical-align: top;\n",
       "    }\n",
       "\n",
       "    .dataframe thead th {\n",
       "        text-align: right;\n",
       "    }\n",
       "</style>\n",
       "<table border=\"1\" class=\"dataframe\">\n",
       "  <thead>\n",
       "    <tr style=\"text-align: right;\">\n",
       "      <th></th>\n",
       "      <th>Original</th>\n",
       "      <th>Predicted</th>\n",
       "    </tr>\n",
       "  </thead>\n",
       "  <tbody>\n",
       "    <tr>\n",
       "      <th>0</th>\n",
       "      <td>3597</td>\n",
       "      <td>3597.000000</td>\n",
       "    </tr>\n",
       "    <tr>\n",
       "      <th>1</th>\n",
       "      <td>2227</td>\n",
       "      <td>2269.000000</td>\n",
       "    </tr>\n",
       "    <tr>\n",
       "      <th>2</th>\n",
       "      <td>6528</td>\n",
       "      <td>9157.405000</td>\n",
       "    </tr>\n",
       "    <tr>\n",
       "      <th>3</th>\n",
       "      <td>13364</td>\n",
       "      <td>13329.514167</td>\n",
       "    </tr>\n",
       "    <tr>\n",
       "      <th>4</th>\n",
       "      <td>8040</td>\n",
       "      <td>10053.763333</td>\n",
       "    </tr>\n",
       "    <tr>\n",
       "      <th>...</th>\n",
       "      <td>...</td>\n",
       "      <td>...</td>\n",
       "    </tr>\n",
       "    <tr>\n",
       "      <th>460</th>\n",
       "      <td>8352</td>\n",
       "      <td>10964.200000</td>\n",
       "    </tr>\n",
       "    <tr>\n",
       "      <th>461</th>\n",
       "      <td>3597</td>\n",
       "      <td>3597.000000</td>\n",
       "    </tr>\n",
       "    <tr>\n",
       "      <th>462</th>\n",
       "      <td>16736</td>\n",
       "      <td>13726.360833</td>\n",
       "    </tr>\n",
       "    <tr>\n",
       "      <th>463</th>\n",
       "      <td>3739</td>\n",
       "      <td>3994.933333</td>\n",
       "    </tr>\n",
       "    <tr>\n",
       "      <th>464</th>\n",
       "      <td>2017</td>\n",
       "      <td>2176.467500</td>\n",
       "    </tr>\n",
       "  </tbody>\n",
       "</table>\n",
       "<p>465 rows × 2 columns</p>\n",
       "</div>"
      ],
      "text/plain": [
       "     Original     Predicted\n",
       "0        3597   3597.000000\n",
       "1        2227   2269.000000\n",
       "2        6528   9157.405000\n",
       "3       13364  13329.514167\n",
       "4        8040  10053.763333\n",
       "..        ...           ...\n",
       "460      8352  10964.200000\n",
       "461      3597   3597.000000\n",
       "462     16736  13726.360833\n",
       "463      3739   3994.933333\n",
       "464      2017   2176.467500\n",
       "\n",
       "[465 rows x 2 columns]"
      ]
     },
     "execution_count": 51,
     "metadata": {},
     "output_type": "execute_result"
    }
   ],
   "source": [
    "a= np.array(ytest)\n",
    "predicted = np.array(flightprice.predict(xtest))\n",
    "fp=pd.DataFrame({\"Original\":a,\"Predicted\":predicted},index=range(len(a)))\n",
    "fp"
   ]
  },
  {
   "cell_type": "markdown",
   "id": "eb1086ad",
   "metadata": {},
   "source": [
    "The predicted price lies very close to the original price. Hence we accept this model."
   ]
  },
  {
   "cell_type": "markdown",
   "id": "f6f2633e",
   "metadata": {},
   "source": [
    "# Saving the model"
   ]
  },
  {
   "cell_type": "code",
   "execution_count": 52,
   "id": "fea1f33b",
   "metadata": {},
   "outputs": [],
   "source": [
    "import pickle\n",
    "filename = 'FlightPrice.pkl'\n",
    "pickle.dump(flightprice,open(filename,'wb'))"
   ]
  },
  {
   "cell_type": "markdown",
   "id": "89b77cd9",
   "metadata": {},
   "source": [
    "Best Model is saved with the name 'FlightPrice.pkl'"
   ]
  },
  {
   "cell_type": "code",
   "execution_count": null,
   "id": "3463ae47",
   "metadata": {},
   "outputs": [],
   "source": []
  }
 ],
 "metadata": {
  "kernelspec": {
   "display_name": "Python 3 (ipykernel)",
   "language": "python",
   "name": "python3"
  },
  "language_info": {
   "codemirror_mode": {
    "name": "ipython",
    "version": 3
   },
   "file_extension": ".py",
   "mimetype": "text/x-python",
   "name": "python",
   "nbconvert_exporter": "python",
   "pygments_lexer": "ipython3",
   "version": "3.9.12"
  }
 },
 "nbformat": 4,
 "nbformat_minor": 5
}
