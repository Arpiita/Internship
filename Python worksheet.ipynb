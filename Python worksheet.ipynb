{
 "cells": [
  {
   "cell_type": "markdown",
   "id": "bd79aa9b",
   "metadata": {},
   "source": [
    "# Question no.11"
   ]
  },
  {
   "cell_type": "code",
   "execution_count": null,
   "id": "99e92119",
   "metadata": {},
   "outputs": [],
   "source": [
    "def factorial(n):\n",
    "    fact=1\n",
    "    for i in range(1,n+1):\n",
    "        fact=fact*i\n",
    "    return fact\n",
    "\n",
    "n=int(input(\"Enter positive num:\"))\n",
    "f=factorial(n)\n",
    "print(\"Factorial is: \",f)"
   ]
  },
  {
   "cell_type": "markdown",
   "id": "1ec24391",
   "metadata": {},
   "source": [
    "# Question no.12"
   ]
  },
  {
   "cell_type": "code",
   "execution_count": null,
   "id": "9a040e62",
   "metadata": {},
   "outputs": [],
   "source": [
    "n=int(input(\"Enter positive number:\"))\n",
    "if(n ==0 or n == 1):\n",
    "    print(n,\"Number is neither prime nor composite\")\n",
    "elif n>1:\n",
    "    for i in range(2,n):\n",
    "        if (n%i) ==0:\n",
    "            print(n,\"is a Composite number\")\n",
    "            break\n",
    "    else:\n",
    "        print(n,\"is a Prime number\")\n",
    "elif n==0 or 1:\n",
    "    print(n,\"is neither Prime nor Composite number\")"
   ]
  },
  {
   "cell_type": "markdown",
   "id": "f4050199",
   "metadata": {},
   "source": [
    "# Question.13"
   ]
  },
  {
   "cell_type": "code",
   "execution_count": null,
   "id": "db334816",
   "metadata": {},
   "outputs": [],
   "source": [
    "str_1=input(\"Enter the string to check if it is a palindrome:\")\n",
    "str1=str_1.casefold()\n",
    "rev_str=reversed(str_1)\n",
    "if list(str_1)== list(rev_str):\n",
    "    print(\"The string is a palindrome.\")\n",
    "else:\n",
    "    print(\"The string is not palindrom.\")"
   ]
  },
  {
   "cell_type": "markdown",
   "id": "39a6744e",
   "metadata": {},
   "source": [
    "# Question no.14"
   ]
  },
  {
   "cell_type": "code",
   "execution_count": null,
   "id": "569337ad",
   "metadata": {},
   "outputs": [],
   "source": [
    "import math\n",
    "\n",
    "a=float(input(\"Enter first short side of triangle \" ))\n",
    "b=float(input(\"Enter second short side triangle \" ))\n",
    "\n",
    "c=math.sqrt(a**2 + b**2)\n",
    "\n",
    "print(\"Third big side of triangle is: \", c)"
   ]
  },
  {
   "cell_type": "markdown",
   "id": "8ae8d10e",
   "metadata": {},
   "source": [
    "# Question no.15"
   ]
  },
  {
   "cell_type": "code",
   "execution_count": null,
   "id": "9e421fe5",
   "metadata": {},
   "outputs": [],
   "source": [
    "str=input(\"Enter string-\")\n",
    "l=list(str)\n",
    "\n",
    "freq=[l.count(ele) for ele in l]\n",
    "d=dict(zip(l,freq))\n",
    "\n",
    "print(d)"
   ]
  },
  {
   "cell_type": "code",
   "execution_count": null,
   "id": "4fedacc1",
   "metadata": {},
   "outputs": [],
   "source": []
  },
  {
   "cell_type": "code",
   "execution_count": null,
   "id": "0ff83394",
   "metadata": {},
   "outputs": [],
   "source": []
  }
 ],
 "metadata": {
  "kernelspec": {
   "display_name": "Python 3 (ipykernel)",
   "language": "python",
   "name": "python3"
  },
  "language_info": {
   "codemirror_mode": {
    "name": "ipython",
    "version": 3
   },
   "file_extension": ".py",
   "mimetype": "text/x-python",
   "name": "python",
   "nbconvert_exporter": "python",
   "pygments_lexer": "ipython3",
   "version": "3.9.12"
  }
 },
 "nbformat": 4,
 "nbformat_minor": 5
}
