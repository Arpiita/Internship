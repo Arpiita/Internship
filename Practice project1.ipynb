{
 "cells": [
  {
   "cell_type": "code",
   "execution_count": null,
   "id": "97cb9af1",
   "metadata": {},
   "outputs": [],
   "source": [
    "!pip install bs4\n",
    "!pip install requests"
   ]
  },
  {
   "cell_type": "code",
   "execution_count": null,
   "id": "db910fd0",
   "metadata": {},
   "outputs": [],
   "source": [
    "#importing required libraries\n",
    "from bs4 import BeautifulSoup\n",
    "import requests\n",
    "import numpy as np\n",
    "import pandas as pd"
   ]
  },
  {
   "cell_type": "markdown",
   "id": "2ebd2dda",
   "metadata": {},
   "source": [
    "# Question 1"
   ]
  },
  {
   "cell_type": "code",
   "execution_count": null,
   "id": "78289d07",
   "metadata": {},
   "outputs": [],
   "source": [
    "url = requests.get('https://en.wikipedia.org')\n",
    "soup = BeautifulSoup(url.text, 'html.parser')\n",
    "header_tags = soup.find_all(['h1', 'h2','h3'])\n",
    "for i in header_tags:\n",
    "    print(i)"
   ]
  },
  {
   "cell_type": "markdown",
   "id": "dd2b6992",
   "metadata": {},
   "source": [
    "# Question 2"
   ]
  },
  {
   "cell_type": "code",
   "execution_count": null,
   "id": "175e635b",
   "metadata": {},
   "outputs": [],
   "source": [
    "page = requests.get('https://www.imdb.com/search/title/?groups=top_100&sort=moviemeter,desc&count=100')"
   ]
  },
  {
   "cell_type": "code",
   "execution_count": null,
   "id": "3a6df3f4",
   "metadata": {},
   "outputs": [],
   "source": [
    "page"
   ]
  },
  {
   "cell_type": "code",
   "execution_count": null,
   "id": "80e8ff9e",
   "metadata": {},
   "outputs": [],
   "source": [
    "soup = BeautifulSoup(page.content)\n",
    "soup"
   ]
  },
  {
   "cell_type": "code",
   "execution_count": null,
   "id": "3d599d00",
   "metadata": {},
   "outputs": [],
   "source": [
    "movie_name = []\n",
    "rating = []\n",
    "year = []"
   ]
  },
  {
   "cell_type": "code",
   "execution_count": null,
   "id": "d86a59dc",
   "metadata": {},
   "outputs": [],
   "source": [
    "movie_data = soup.findAll('div', attrs= {'class': 'lister-item mode-advanced'})"
   ]
  },
  {
   "cell_type": "code",
   "execution_count": null,
   "id": "6b7542d3",
   "metadata": {},
   "outputs": [],
   "source": [
    "for i in movie_data:\n",
    "    name = i.h3.a.text\n",
    "    movie_name.append(name)\n",
    "    \n",
    "    release_year = i.h3.find('span', class_=\"lister-item-year text-muted unbold\").text.replace('(','').replace(')','')\n",
    "    year.append(release_year)\n",
    "    \n",
    "    rate = i.find('div', class_=\"inline-block ratings-imdb-rating\").text.replace('\\n','')\n",
    "    rating.append(rate)"
   ]
  },
  {
   "cell_type": "code",
   "execution_count": null,
   "id": "7c8c79ff",
   "metadata": {},
   "outputs": [],
   "source": [
    "movie_Df = pd.DataFrame({'Name of movie': movie_name, 'Release year': year, 'Rating': rating})"
   ]
  },
  {
   "cell_type": "code",
   "execution_count": null,
   "id": "0612f539",
   "metadata": {},
   "outputs": [],
   "source": [
    "movie_Df"
   ]
  },
  {
   "cell_type": "markdown",
   "id": "4eeb2818",
   "metadata": {},
   "source": [
    "# Question 3"
   ]
  },
  {
   "cell_type": "code",
   "execution_count": null,
   "id": "184179e9",
   "metadata": {},
   "outputs": [],
   "source": [
    "page = requests.get('https://www.imdb.com/search/title/?countries=in&count=100')"
   ]
  },
  {
   "cell_type": "code",
   "execution_count": null,
   "id": "b4028a3c",
   "metadata": {},
   "outputs": [],
   "source": [
    "page"
   ]
  },
  {
   "cell_type": "code",
   "execution_count": null,
   "id": "4e5117fa",
   "metadata": {},
   "outputs": [],
   "source": [
    "soup = BeautifulSoup(page.content)\n",
    "soup"
   ]
  },
  {
   "cell_type": "code",
   "execution_count": null,
   "id": "471043d5",
   "metadata": {},
   "outputs": [],
   "source": [
    "movie_name = []\n",
    "rating = []\n",
    "year = []"
   ]
  },
  {
   "cell_type": "code",
   "execution_count": null,
   "id": "312ae670",
   "metadata": {},
   "outputs": [],
   "source": [
    "movie_data = soup.findAll('div', attrs = {'class':'lister-item mode-advanced'})"
   ]
  },
  {
   "cell_type": "code",
   "execution_count": null,
   "id": "73fce5d6",
   "metadata": {},
   "outputs": [],
   "source": [
    "for i in movie_data:\n",
    "    name = i.h3.a.text\n",
    "    movie_name.append(name)\n",
    "    \n",
    "    release_year = i.h3.find('span', class_=\"lister-item-year text-muted unbold\").text.replace('(','').replace(')','')\n",
    "    year.append(release_year)\n",
    "    \n",
    "    rate = i.find('div', class_=\"inline-block ratings-imdb-rating\")\n",
    "    rating.append(rate)"
   ]
  },
  {
   "cell_type": "code",
   "execution_count": null,
   "id": "ce1fe19e",
   "metadata": {},
   "outputs": [],
   "source": [
    "movie_Df = pd.DataFrame({'Name of movie': movie_name, 'Release year': year, 'Rating': rating})"
   ]
  },
  {
   "cell_type": "code",
   "execution_count": null,
   "id": "46fe71ac",
   "metadata": {},
   "outputs": [],
   "source": [
    "movie_Df"
   ]
  },
  {
   "cell_type": "markdown",
   "id": "907eb86b",
   "metadata": {},
   "source": [
    "# Question 4"
   ]
  },
  {
   "cell_type": "code",
   "execution_count": null,
   "id": "7a62ef9d",
   "metadata": {},
   "outputs": [],
   "source": [
    "page = requests.get('https://presidentofindia.nic.in/former-presidents.htm')"
   ]
  },
  {
   "cell_type": "code",
   "execution_count": null,
   "id": "067906ce",
   "metadata": {},
   "outputs": [],
   "source": [
    "page"
   ]
  },
  {
   "cell_type": "code",
   "execution_count": null,
   "id": "b6ea8746",
   "metadata": {},
   "outputs": [],
   "source": [
    "soup = BeautifulSoup(page.content)\n",
    "soup"
   ]
  },
  {
   "cell_type": "code",
   "execution_count": null,
   "id": "b3d8a846",
   "metadata": {},
   "outputs": [],
   "source": [
    "l = []\n",
    "t = {}"
   ]
  },
  {
   "cell_type": "code",
   "execution_count": null,
   "id": "434c02ef",
   "metadata": {},
   "outputs": [],
   "source": [
    "names = soup.findAll('div', attrs = {'class': \"presidentListing\"})"
   ]
  },
  {
   "cell_type": "code",
   "execution_count": null,
   "id": "caf3e3cb",
   "metadata": {},
   "outputs": [],
   "source": [
    "#print(names)\n",
    "for i in names:\n",
    "    name_list = i.h3.text.strip()\n",
    "    office_term = i.p.text.strip()\n",
    "    t[name_list] = office_term\n",
    "    \n",
    "print(t)"
   ]
  },
  {
   "cell_type": "markdown",
   "id": "66a23831",
   "metadata": {},
   "source": [
    "# Question 5 (a)"
   ]
  },
  {
   "cell_type": "code",
   "execution_count": null,
   "id": "758543ca",
   "metadata": {},
   "outputs": [],
   "source": [
    "page = requests.get('https://www.icc-cricket.com/rankings/mens/team-rankings/odi')"
   ]
  },
  {
   "cell_type": "code",
   "execution_count": null,
   "id": "22e6e1c9",
   "metadata": {},
   "outputs": [],
   "source": [
    "page"
   ]
  },
  {
   "cell_type": "code",
   "execution_count": null,
   "id": "40e397c6",
   "metadata": {},
   "outputs": [],
   "source": [
    "soup = BeautifulSoup(page.content)\n",
    "soup"
   ]
  },
  {
   "cell_type": "code",
   "execution_count": null,
   "id": "2ea7f5fc",
   "metadata": {},
   "outputs": [],
   "source": [
    "a = soup.find_all('tr', {'class': \"table-body\"})\n",
    "b = soup.find_all('tr', {'class': \"rankings-block__banner\"})\n",
    "data= {}\n",
    "c={}\n",
    "\n",
    "for i in a:\n",
    "    for j in b:\n",
    "            rank1team_name=j.contents[3].text.replace('/n','')\n",
    "            team=j.contents[3].text.replace('/n','')\n",
    "            rank=int(j.contents[1].text)\n",
    "            points=j.contents[7].text\n",
    "            rating=j.contents[9].text.replace('/n','')\n",
    "            matches=j.contents[5].text\n",
    "            t= []\n",
    "            t.extend([rank1team_name,rating,points,matches])\n",
    "            c[rank]=t\n",
    "        \n",
    "        \n",
    "    teams = []\n",
    "    \n",
    "    \n",
    "    team= i.contents[3].text.replace('\\n','')\n",
    "    rank=int(i.contents[1].text)\n",
    "    \n",
    "    points= i.contents[7].text\n",
    "    rating= i.contents[9].text\n",
    "    matches= i.contents[5].text\n",
    "    \n",
    "    teams.extend([team,rating,points,matches])\n",
    "    \n",
    "    data[rank]=teams\n",
    "\n",
    "c.update(data)\n",
    "print(c)"
   ]
  },
  {
   "cell_type": "code",
   "execution_count": null,
   "id": "678baaeb",
   "metadata": {},
   "outputs": [],
   "source": [
    "res= dict(sorted(c.items(),reverse=False)[:10])\n",
    "print(res)"
   ]
  },
  {
   "cell_type": "markdown",
   "id": "4c7fb162",
   "metadata": {},
   "source": [
    "# (b)"
   ]
  },
  {
   "cell_type": "code",
   "execution_count": null,
   "id": "beea2888",
   "metadata": {},
   "outputs": [],
   "source": [
    "page = requests.get('https://www.icc-cricket.com/rankings/mens/player-rankings/odi/bowling')"
   ]
  },
  {
   "cell_type": "code",
   "execution_count": null,
   "id": "2f13d56e",
   "metadata": {},
   "outputs": [],
   "source": [
    "page"
   ]
  },
  {
   "cell_type": "code",
   "execution_count": null,
   "id": "c0eff184",
   "metadata": {},
   "outputs": [],
   "source": [
    "a = soup.find_all('tr', {'class': \"table-body\"})\n",
    "b = soup.find_all('tr', {'class': \"rankings-block__banner\"})\n",
    "data= {}\n",
    "c={}\n",
    "\n",
    "for i in a:\n",
    "    for j in b:\n",
    "            "
   ]
  },
  {
   "cell_type": "markdown",
   "id": "596d7cca",
   "metadata": {},
   "source": [
    "# Question 6 (a)"
   ]
  },
  {
   "cell_type": "code",
   "execution_count": null,
   "id": "0919870a",
   "metadata": {},
   "outputs": [],
   "source": [
    "page = requests.get('https://www.icc-cricket.com/rankings/womens/team-rankings/odi')"
   ]
  },
  {
   "cell_type": "code",
   "execution_count": null,
   "id": "5a0ed43e",
   "metadata": {},
   "outputs": [],
   "source": [
    "page"
   ]
  },
  {
   "cell_type": "code",
   "execution_count": null,
   "id": "8be5c98c",
   "metadata": {},
   "outputs": [],
   "source": [
    "a = soup.find_all('tr', {'class':\"table-body\"})\n",
    "b = soup.find_all('tr', {'class': \"rankings-block__banner\"})\n",
    "data= {}\n",
    "c={}\n",
    "\n",
    "for i in a:\n",
    "    for j in b:\n",
    "            rank1team_name=j.contents[3].text.replace('/n','')\n",
    "            team=j.contents[3].text.replace('/n','')\n",
    "            rank=int(j.contents[1].text)\n",
    "            points=j.contents[7].text\n",
    "            rating=j.contents[9].text.replace('/n','')\n",
    "            matches=j.contents[5].text\n",
    "            t= []\n",
    "            t.extend([rank1team_name,rating,points,matches])\n",
    "            c[rank]=t\n",
    "        \n",
    "        \n",
    "    teams = []\n",
    "    \n",
    "    team= i.contents[3].text.replace('\\n','')\n",
    "    rank=int(i.contents[1].text)\n",
    "    \n",
    "    points= i.contents[7].text\n",
    "    rating= i.contents[9].text\n",
    "    matches= i.contents[5].text\n",
    "    \n",
    "    teams.extend([team,rating,points,matches])\n",
    "    \n",
    "    data[rank]=teams\n",
    "\n",
    "c.update(data)\n",
    "print(c)\n",
    "    \n"
   ]
  },
  {
   "cell_type": "markdown",
   "id": "0bdaf069",
   "metadata": {},
   "source": [
    "# Question 7"
   ]
  },
  {
   "cell_type": "code",
   "execution_count": null,
   "id": "d793df69",
   "metadata": {},
   "outputs": [],
   "source": [
    "url = 'https://www.cnbc.com/world/?region=world'"
   ]
  },
  {
   "cell_type": "code",
   "execution_count": null,
   "id": "703e0241",
   "metadata": {},
   "outputs": [],
   "source": [
    "reqs= requests.get(url)\n",
    "soup= BeautifulSoup(reqs.text, 'html.parser')"
   ]
  },
  {
   "cell_type": "code",
   "execution_count": null,
   "id": "15fea6e5",
   "metadata": {},
   "outputs": [],
   "source": [
    "urls = []\n",
    "\n",
    "for links in soup.find_all('a'):\n",
    "    print(links.get('href'))"
   ]
  },
  {
   "cell_type": "code",
   "execution_count": null,
   "id": "f0f28896",
   "metadata": {},
   "outputs": [],
   "source": [
    "headlines = soup.find('body').find_all('h3')\n",
    "for x in headlines:\n",
    "    print(x.text.strip())"
   ]
  },
  {
   "cell_type": "code",
   "execution_count": null,
   "id": "ada3ed8a",
   "metadata": {},
   "outputs": [],
   "source": [
    "time =[]\n",
    "\n",
    "for i in soup.find_all('span',class_=\"RiverByline-datePublished\"):\n",
    "    time.append(i.text)\n",
    "\n",
    "time"
   ]
  },
  {
   "cell_type": "markdown",
   "id": "4418a791",
   "metadata": {},
   "source": [
    "# Question 8"
   ]
  },
  {
   "cell_type": "code",
   "execution_count": null,
   "id": "073e9336",
   "metadata": {},
   "outputs": [],
   "source": [
    "page= requests.get('https://www.journals.elsevier.com/artificial-intelligence/most-downloaded-articles')"
   ]
  },
  {
   "cell_type": "code",
   "execution_count": null,
   "id": "10bddead",
   "metadata": {},
   "outputs": [],
   "source": [
    "soup= BeautifulSoup(page.text,'html.parser')"
   ]
  },
  {
   "cell_type": "code",
   "execution_count": null,
   "id": "b8e99532",
   "metadata": {},
   "outputs": [],
   "source": [
    "dtable= soup.find('div', class_=\"sc-orwwe2-3 gPmFkB\")"
   ]
  },
  {
   "cell_type": "code",
   "execution_count": null,
   "id": "ce003266",
   "metadata": {},
   "outputs": [],
   "source": [
    "for i in dtable:\n",
    "    name = i.h2.a.text\n",
    "    title.append(name)"
   ]
  },
  {
   "cell_type": "code",
   "execution_count": null,
   "id": "9bd3031d",
   "metadata": {},
   "outputs": [],
   "source": [
    "weblink= []\n",
    "\n",
    "for links in soup.find_all('a'):\n",
    "    print(links.get('href'))"
   ]
  },
  {
   "cell_type": "code",
   "execution_count": null,
   "id": "cc860f78",
   "metadata": {},
   "outputs": [],
   "source": [
    "date = []\n",
    "\n",
    "for i in soup.find_all('span', class_=\"sc-1thf9ly-2 bKddwo\"):\n",
    "    date.append(i.text)\n",
    "    \n",
    "print(date)"
   ]
  },
  {
   "cell_type": "code",
   "execution_count": null,
   "id": "d8573f00",
   "metadata": {},
   "outputs": [],
   "source": [
    "authors = []\n",
    "\n",
    "for i in soup.find_all('span', class_=\"sc-1w3fpd7-0 pgLAT\"):\n",
    "    authors.append(i.text)\n",
    "    \n",
    "print(authors)"
   ]
  },
  {
   "cell_type": "markdown",
   "id": "9ba14650",
   "metadata": {},
   "source": [
    "# Question 9:"
   ]
  },
  {
   "cell_type": "code",
   "execution_count": null,
   "id": "668aa4e1",
   "metadata": {},
   "outputs": [],
   "source": [
    "page = requests.get('https://www.dineout.co.in/delhi-restaurants/buffet-special')"
   ]
  },
  {
   "cell_type": "code",
   "execution_count": null,
   "id": "7a71669d",
   "metadata": {},
   "outputs": [],
   "source": [
    "page"
   ]
  },
  {
   "cell_type": "code",
   "execution_count": null,
   "id": "3ed36bc1",
   "metadata": {},
   "outputs": [],
   "source": [
    "soup = BeautifulSoup(page.content)\n",
    "soup"
   ]
  },
  {
   "cell_type": "code",
   "execution_count": null,
   "id": "8f71a6c9",
   "metadata": {},
   "outputs": [],
   "source": [
    "resturant_name= []\n",
    "\n",
    "for i in soup.find_all('a',class_=\"restnt-name ellipsis\"):\n",
    "    resturant_name.append(i.text)\n",
    "    \n",
    "resturant_name"
   ]
  },
  {
   "cell_type": "code",
   "execution_count": null,
   "id": "39057498",
   "metadata": {},
   "outputs": [],
   "source": [
    "cuisine= []\n",
    "\n",
    "for i in soup.find_all('span',class_=\"double-line-ellipsis\"):\n",
    "    cuisine.append(i.text.split(\"|\")[1])\n",
    "\n",
    "cuisine"
   ]
  },
  {
   "cell_type": "code",
   "execution_count": null,
   "id": "01032833",
   "metadata": {},
   "outputs": [],
   "source": [
    "loc = []\n",
    "\n",
    "for i in soup.find_all('div',class_=\"restnt-loc ellipsis\"):\n",
    "    loc.append(i.text)\n",
    "    \n",
    "loc"
   ]
  },
  {
   "cell_type": "code",
   "execution_count": null,
   "id": "e47e5c8e",
   "metadata": {},
   "outputs": [],
   "source": [
    "ratings = [] \n",
    "\n",
    "for i in soup.find_all('div',class_=\"restnt-rating rating-4\"):\n",
    "    ratings.append(i.text)\n",
    " \n",
    "ratings"
   ]
  },
  {
   "cell_type": "code",
   "execution_count": null,
   "id": "204917dd",
   "metadata": {},
   "outputs": [],
   "source": [
    "images = []\n",
    "\n",
    "for i in soup.find_all(\"img\", class_=\"no-img\"):\n",
    "    images.append(i.get('data-src'))\n",
    "\n",
    "images"
   ]
  },
  {
   "cell_type": "markdown",
   "id": "f607ef63",
   "metadata": {},
   "source": [
    "# Question 10"
   ]
  },
  {
   "cell_type": "code",
   "execution_count": null,
   "id": "4fe80c84",
   "metadata": {},
   "outputs": [],
   "source": [
    "page= requests.get('https://scholar.google.com/citations?view_op=top_venues&hl=en')"
   ]
  },
  {
   "cell_type": "code",
   "execution_count": null,
   "id": "1fad4c67",
   "metadata": {},
   "outputs": [],
   "source": [
    "soup= BeautifulSoup(page.text,'html.parser')"
   ]
  },
  {
   "cell_type": "code",
   "execution_count": null,
   "id": "1f4deae4",
   "metadata": {},
   "outputs": [],
   "source": [
    "dtable= soup.find('table', class_='gsc_mp_table')\n",
    "\n",
    "#print(dtable)\n",
    "\n",
    "for tr in dtable.findAll('tr')[1:2]:\n",
    "    #tds= tr.findAll('td')\n",
    "    rank= tr.find('td', class_='gsc_mvt_p').text\n",
    "    publication= tr.find('td', class_='gsc_mvt_t').text\n",
    "    h5Index= tr.find('a', class_='gs_ibl gsc_mp_anchor').text\n",
    "    h5Median= tr.find('span', class_='gs_ibl gsc_mp_anchor').text\n",
    "    \n",
    "print(rank,publication,h5Index,h5Median)"
   ]
  }
 ],
 "metadata": {
  "kernelspec": {
   "display_name": "Python 3 (ipykernel)",
   "language": "python",
   "name": "python3"
  },
  "language_info": {
   "codemirror_mode": {
    "name": "ipython",
    "version": 3
   },
   "file_extension": ".py",
   "mimetype": "text/x-python",
   "name": "python",
   "nbconvert_exporter": "python",
   "pygments_lexer": "ipython3",
   "version": "3.9.12"
  }
 },
 "nbformat": 4,
 "nbformat_minor": 5
}
